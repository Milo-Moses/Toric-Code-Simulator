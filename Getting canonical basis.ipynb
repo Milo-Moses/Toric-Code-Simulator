{
 "cells": [
  {
   "cell_type": "code",
   "execution_count": 1,
   "id": "39851a1e",
   "metadata": {},
   "outputs": [],
   "source": [
    "import numpy as np\n",
    "import qutip\n",
    "import csv\n",
    "\n",
    "\n",
    "from qiskit import QuantumCircuit, ClassicalRegister, QuantumRegister,BasicAer\n",
    "from qiskit.compiler import transpile\n",
    "from qiskit.quantum_info.operators import Operator, Pauli\n",
    "from qiskit.quantum_info import process_fidelity\n",
    "from qiskit.extensions import RXGate, XGate, CXGate\n",
    "from qiskit.opflow.primitive_ops import PauliSumOp\n",
    "from qiskit.circuit import ParameterVector\n",
    "from qiskit.quantum_info import SparsePauliOp\n",
    "from scipy.sparse.linalg import eigs\n",
    "import matplotlib.pyplot as plt"
   ]
  },
  {
   "cell_type": "code",
   "execution_count": 2,
   "id": "df311a8b",
   "metadata": {},
   "outputs": [],
   "source": [
    "from Torus import Torus"
   ]
  },
  {
   "cell_type": "code",
   "execution_count": 3,
   "id": "fd7e9604",
   "metadata": {},
   "outputs": [],
   "source": [
    "T = Torus()"
   ]
  },
  {
   "cell_type": "code",
   "execution_count": 4,
   "id": "e39e96f9",
   "metadata": {},
   "outputs": [],
   "source": [
    "T.loadEigenData(\"CSVs/groundEigenvalues.csv\",\n",
    "                \"CSVs/groundEigenMW.csv\",\n",
    "                \"CSVs/groundEigenstates.csv\")"
   ]
  },
  {
   "cell_type": "code",
   "execution_count": 5,
   "id": "4e117a31",
   "metadata": {},
   "outputs": [],
   "source": [
    "T.eigenstates+=[T.homologyOperator(\"alpha\").to_spmatrix() @ T.eigenstates[0]]\n",
    "T.eigenstates+=[T.homologyOperator(\"beta\").to_spmatrix() @ T.eigenstates[0]]\n",
    "T.eigenstates+=[T.homologyOperator(\"alphabeta\").to_spmatrix() @ T.eigenstates[0]]"
   ]
  },
  {
   "cell_type": "code",
   "execution_count": 6,
   "id": "7d20a9b1",
   "metadata": {},
   "outputs": [],
   "source": [
    "T.eigenvalues=[-18.0,-18.0,-18.0,-18.0]\n",
    "T.eigenMW=[1.0,1.0,1.0,1.0]"
   ]
  },
  {
   "cell_type": "code",
   "execution_count": 25,
   "id": "8f7bea39",
   "metadata": {},
   "outputs": [],
   "source": [
    "row0=T.eigenstates[0]\n",
    "row1=T.eigenstates[1]\n",
    "row2=T.eigenstates[2]\n",
    "row3=T.eigenstates[3]"
   ]
  },
  {
   "cell_type": "code",
   "execution_count": 8,
   "id": "0f9d1bf4",
   "metadata": {},
   "outputs": [],
   "source": [
    "def getVals(vec):\n",
    "    values={}\n",
    "    for val in vec:\n",
    "        if val not in values:\n",
    "            values[val]=1\n",
    "        else:\n",
    "            values[val]+=1\n",
    "    print(values)"
   ]
  },
  {
   "cell_type": "code",
   "execution_count": 102,
   "id": "ada8a613",
   "metadata": {},
   "outputs": [
    {
     "name": "stdout",
     "output_type": "stream",
     "text": [
      "{(0.0625+0j): 256, 0j: 261888}\n"
     ]
    }
   ],
   "source": [
    "getVals(row0)"
   ]
  },
  {
   "cell_type": "code",
   "execution_count": 103,
   "id": "66abfe3e",
   "metadata": {},
   "outputs": [
    {
     "name": "stdout",
     "output_type": "stream",
     "text": [
      "{0j: 261888, (0.0625+0j): 256}\n"
     ]
    }
   ],
   "source": [
    "getVals(row1)"
   ]
  },
  {
   "cell_type": "code",
   "execution_count": 104,
   "id": "2c3872e4",
   "metadata": {},
   "outputs": [
    {
     "name": "stdout",
     "output_type": "stream",
     "text": [
      "{-0j: 261888, (0.0625-0j): 256}\n"
     ]
    }
   ],
   "source": [
    "getVals(row2)"
   ]
  },
  {
   "cell_type": "code",
   "execution_count": 105,
   "id": "d9576258",
   "metadata": {},
   "outputs": [
    {
     "name": "stdout",
     "output_type": "stream",
     "text": [
      "{0j: 261888, (0.0625+0j): 256}\n"
     ]
    }
   ],
   "source": [
    "getVals(row3)"
   ]
  },
  {
   "cell_type": "code",
   "execution_count": 30,
   "id": "705eb45f",
   "metadata": {},
   "outputs": [],
   "source": [
    "row0=np.divide(row0,(0.021585769261974+0.01006124885818j))\n",
    "row1=np.divide(row1,(-0.015193292084669-0.013119520310364j))\n",
    "row2=np.divide(row2,(0.023772068326819+0.044313267540763j))\n",
    "row3=np.divide(row3,(0.004483399498942-0.019678417504901j))"
   ]
  },
  {
   "cell_type": "code",
   "execution_count": 31,
   "id": "4ebea717",
   "metadata": {},
   "outputs": [],
   "source": [
    "row1=row1-row0\n",
    "row2=row2-row0\n",
    "row3=row3-row0"
   ]
  },
  {
   "cell_type": "code",
   "execution_count": 36,
   "id": "a50cafde",
   "metadata": {},
   "outputs": [],
   "source": [
    "row1=np.divide(row1,(-0.33048957472676566+0.553227721141698j))\n",
    "row2=np.divide(row2,(0.5082737690534482-0.03376371968446884j))\n",
    "row3=np.divide(row3,(-1.068138396487091+1.865940410125834j))"
   ]
  },
  {
   "cell_type": "code",
   "execution_count": 45,
   "id": "129032a0",
   "metadata": {},
   "outputs": [],
   "source": [
    "row2=row2-row1\n",
    "row3=row3-row1"
   ]
  },
  {
   "cell_type": "code",
   "execution_count": 49,
   "id": "bf78a218",
   "metadata": {},
   "outputs": [],
   "source": [
    "row2=np.divide(row2,(-2.8358319453185152-5.127857000432035j))\n",
    "row3=np.divide(row3,(-1.0504035605140025-0.9346622649076776j))"
   ]
  },
  {
   "cell_type": "code",
   "execution_count": 50,
   "id": "cca39952",
   "metadata": {},
   "outputs": [],
   "source": [
    "row3=row3-row2"
   ]
  },
  {
   "cell_type": "code",
   "execution_count": 55,
   "id": "3d1d66ab",
   "metadata": {},
   "outputs": [],
   "source": [
    "row3=np.divide(row3,(1.6872649850238473+1.6343093965224569j))"
   ]
  },
  {
   "cell_type": "code",
   "execution_count": 57,
   "id": "304003dc",
   "metadata": {},
   "outputs": [],
   "source": [
    "row0=np.around(row0,15)\n",
    "row1=np.around(row1,15)\n",
    "row2=np.around(row2,15)\n",
    "row3=np.around(row3,15)"
   ]
  },
  {
   "cell_type": "code",
   "execution_count": 63,
   "id": "50944b01",
   "metadata": {},
   "outputs": [],
   "source": [
    "row2=row2-np.multiply(row3,(0.333945899302419-0.231734432694198j))"
   ]
  },
  {
   "cell_type": "code",
   "execution_count": 66,
   "id": "381754d9",
   "metadata": {},
   "outputs": [],
   "source": [
    "row1=row1-np.multiply(row3,(1.628368753617444+2.932710537489018j))\n",
    "row1=row1-np.multiply(row2,(0.468188538543552+1.924043814418597j))"
   ]
  },
  {
   "cell_type": "code",
   "execution_count": 68,
   "id": "4790465a",
   "metadata": {},
   "outputs": [],
   "source": [
    "row0=row0-np.multiply(row3,(-0.178449293219596-0.828462240109062j))\n",
    "row0=row0-np.multiply(row2,(1.690812551808222+1.264795400763466j))\n",
    "row0=row0-np.multiply(row1,(-0.810963696587936-0.229790872117827j))"
   ]
  },
  {
   "cell_type": "code",
   "execution_count": 71,
   "id": "78bac926",
   "metadata": {},
   "outputs": [],
   "source": [
    "row0=row0/16\n",
    "row1=row1/16\n",
    "row2=row2/16\n",
    "row3=row3/16"
   ]
  },
  {
   "cell_type": "code",
   "execution_count": 87,
   "id": "31d4f692",
   "metadata": {},
   "outputs": [],
   "source": [
    "T.makeHamiltonian()"
   ]
  },
  {
   "cell_type": "code",
   "execution_count": 90,
   "id": "ab836269",
   "metadata": {},
   "outputs": [],
   "source": [
    "hammy=T.hamiltonian.to_spmatrix()"
   ]
  },
  {
   "cell_type": "code",
   "execution_count": 91,
   "id": "87d0c7a0",
   "metadata": {},
   "outputs": [],
   "source": [
    "sca0= hammy @ row0\n",
    "sca1= hammy @ row1\n",
    "sca2= hammy @ row2\n",
    "sca3= hammy @ row3"
   ]
  },
  {
   "cell_type": "code",
   "execution_count": 94,
   "id": "8b7e5a6c",
   "metadata": {},
   "outputs": [
    {
     "name": "stdout",
     "output_type": "stream",
     "text": [
      "{0j: 262144}\n",
      "{0j: 262144}\n",
      "{0j: 262144}\n",
      "{0j: 262144}\n"
     ]
    }
   ],
   "source": [
    "getVals(sca0+np.multiply(row0,18))\n",
    "getVals(sca1+np.multiply(row1,18))\n",
    "getVals(sca2+np.multiply(row2,18))\n",
    "getVals(sca3+np.multiply(row3,18))"
   ]
  },
  {
   "cell_type": "code",
   "execution_count": 99,
   "id": "5cc6682c",
   "metadata": {},
   "outputs": [
    {
     "data": {
      "text/plain": [
       "1.0"
      ]
     },
     "execution_count": 99,
     "metadata": {},
     "output_type": "execute_result"
    }
   ],
   "source": [
    "T.MW(row3)"
   ]
  },
  {
   "cell_type": "code",
   "execution_count": 109,
   "id": "450b8dda",
   "metadata": {},
   "outputs": [],
   "source": [
    "T.saveEigenData(\"CSVs/groundEigenvalues.csv\",\n",
    "                \"CSVs/groundEigenMW.csv\",\n",
    "                \"CSVs/groundEigenstates.csv\")"
   ]
  },
  {
   "cell_type": "code",
   "execution_count": 106,
   "id": "a8c1a1ac",
   "metadata": {},
   "outputs": [
    {
     "data": {
      "text/plain": [
       "[1.0, 1.0, 1.0, 1.0]"
      ]
     },
     "execution_count": 106,
     "metadata": {},
     "output_type": "execute_result"
    }
   ],
   "source": [
    "T.eigenMW"
   ]
  },
  {
   "cell_type": "code",
   "execution_count": 108,
   "id": "3f6fc429",
   "metadata": {},
   "outputs": [],
   "source": [
    "T.eigenstates=[row0,row1,row2,row3]"
   ]
  },
  {
   "cell_type": "code",
   "execution_count": 110,
   "id": "b19d0dfd",
   "metadata": {},
   "outputs": [],
   "source": [
    "alpha0 = T.homologyOperator(\"alpha\").to_spmatrix() @ row0"
   ]
  },
  {
   "cell_type": "code",
   "execution_count": 112,
   "id": "c583226c",
   "metadata": {},
   "outputs": [
    {
     "name": "stdout",
     "output_type": "stream",
     "text": [
      "{0j: 262144}\n"
     ]
    }
   ],
   "source": [
    "getVals(alpha0-row1)"
   ]
  },
  {
   "cell_type": "code",
   "execution_count": null,
   "id": "23fee7b0",
   "metadata": {},
   "outputs": [],
   "source": []
  }
 ],
 "metadata": {
  "kernelspec": {
   "display_name": "Python 3 (ipykernel)",
   "language": "python",
   "name": "python3"
  },
  "language_info": {
   "codemirror_mode": {
    "name": "ipython",
    "version": 3
   },
   "file_extension": ".py",
   "mimetype": "text/x-python",
   "name": "python",
   "nbconvert_exporter": "python",
   "pygments_lexer": "ipython3",
   "version": "3.10.9"
  }
 },
 "nbformat": 4,
 "nbformat_minor": 5
}
