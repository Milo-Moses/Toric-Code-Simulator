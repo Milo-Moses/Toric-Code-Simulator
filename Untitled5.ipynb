{
 "cells": [
  {
   "cell_type": "code",
   "execution_count": 1,
   "id": "5aded960",
   "metadata": {},
   "outputs": [],
   "source": [
    "import numpy as np\n",
    "import qutip\n",
    "import csv\n",
    "\n",
    "\n",
    "from qiskit import QuantumCircuit, ClassicalRegister, QuantumRegister,BasicAer\n",
    "from qiskit.compiler import transpile\n",
    "from qiskit.quantum_info.operators import Operator, Pauli\n",
    "from qiskit.quantum_info import process_fidelity\n",
    "from qiskit.extensions import RXGate, XGate, CXGate\n",
    "from qiskit.opflow.primitive_ops import PauliSumOp\n",
    "from qiskit.circuit import ParameterVector\n",
    "from qiskit.quantum_info import SparsePauliOp\n",
    "from scipy.sparse.linalg import eigs\n",
    "import matplotlib.pyplot as plt"
   ]
  },
  {
   "cell_type": "code",
   "execution_count": 2,
   "id": "465f3ee4",
   "metadata": {},
   "outputs": [],
   "source": [
    "from Torus import Torus"
   ]
  },
  {
   "cell_type": "code",
   "execution_count": 3,
   "id": "51289329",
   "metadata": {},
   "outputs": [],
   "source": [
    "T=Torus()\n",
    "T.loadEigenData(\"CSVs/groundEigenvalues.csv\",\n",
    "                \"CSVs/groundEigenstates.csv\")"
   ]
  },
  {
   "cell_type": "code",
   "execution_count": 4,
   "id": "42e2a53d",
   "metadata": {},
   "outputs": [
    {
     "name": "stdout",
     "output_type": "stream",
     "text": [
      "True\n",
      "True\n",
      "True\n",
      "True\n"
     ]
    }
   ],
   "source": [
    "print(np.array_equal(T.eigenstates[0] @ (T.homologyXOperator(\"id\").to_spmatrix()), T.eigenstates[0]))\n",
    "print(np.array_equal(T.eigenstates[1] @ (T.homologyXOperator(\"id\").to_spmatrix()), T.eigenstates[1]))\n",
    "print(np.array_equal(T.eigenstates[2] @ (T.homologyXOperator(\"id\").to_spmatrix()), T.eigenstates[2]))\n",
    "print(np.array_equal(T.eigenstates[3] @ (T.homologyXOperator(\"id\").to_spmatrix()), T.eigenstates[3]))"
   ]
  },
  {
   "cell_type": "code",
   "execution_count": 5,
   "id": "98d2042e",
   "metadata": {},
   "outputs": [
    {
     "name": "stdout",
     "output_type": "stream",
     "text": [
      "True\n",
      "True\n",
      "True\n",
      "True\n"
     ]
    }
   ],
   "source": [
    "print(np.array_equal(T.eigenstates[0] @ (T.homologyXOperator(\"alpha\").to_spmatrix()), T.eigenstates[1]))\n",
    "print(np.array_equal(T.eigenstates[1] @ (T.homologyXOperator(\"alpha\").to_spmatrix()), T.eigenstates[0]))\n",
    "print(np.array_equal(T.eigenstates[2] @ (T.homologyXOperator(\"alpha\").to_spmatrix()), T.eigenstates[3]))\n",
    "print(np.array_equal(T.eigenstates[3] @ (T.homologyXOperator(\"alpha\").to_spmatrix()), T.eigenstates[2]))"
   ]
  },
  {
   "cell_type": "code",
   "execution_count": 6,
   "id": "fc7c6195",
   "metadata": {},
   "outputs": [
    {
     "name": "stdout",
     "output_type": "stream",
     "text": [
      "True\n",
      "True\n",
      "True\n",
      "True\n"
     ]
    }
   ],
   "source": [
    "print(np.array_equal(T.eigenstates[0] @ (T.homologyXOperator(\"beta\").to_spmatrix()), T.eigenstates[2]))\n",
    "print(np.array_equal(T.eigenstates[1] @ (T.homologyXOperator(\"beta\").to_spmatrix()), T.eigenstates[3]))\n",
    "print(np.array_equal(T.eigenstates[2] @ (T.homologyXOperator(\"beta\").to_spmatrix()), T.eigenstates[0]))\n",
    "print(np.array_equal(T.eigenstates[3] @ (T.homologyXOperator(\"beta\").to_spmatrix()), T.eigenstates[1]))"
   ]
  },
  {
   "cell_type": "code",
   "execution_count": 7,
   "id": "1ad13a81",
   "metadata": {},
   "outputs": [
    {
     "name": "stdout",
     "output_type": "stream",
     "text": [
      "True\n",
      "True\n",
      "True\n",
      "True\n"
     ]
    }
   ],
   "source": [
    "print(np.array_equal(T.eigenstates[0] @ (T.homologyXOperator(\"alphabeta\").to_spmatrix()), T.eigenstates[3]))\n",
    "print(np.array_equal(T.eigenstates[1] @ (T.homologyXOperator(\"alphabeta\").to_spmatrix()), T.eigenstates[2]))\n",
    "print(np.array_equal(T.eigenstates[2] @ (T.homologyXOperator(\"alphabeta\").to_spmatrix()), T.eigenstates[1]))\n",
    "print(np.array_equal(T.eigenstates[3] @ (T.homologyXOperator(\"alphabeta\").to_spmatrix()), T.eigenstates[0]))"
   ]
  },
  {
   "cell_type": "code",
   "execution_count": 8,
   "id": "c79f4e9d",
   "metadata": {},
   "outputs": [
    {
     "name": "stdout",
     "output_type": "stream",
     "text": [
      "True\n",
      "True\n",
      "True\n",
      "True\n"
     ]
    }
   ],
   "source": [
    "print(np.array_equal(T.eigenstates[0] @ (T.homologyZOperator(\"id\").to_spmatrix()), T.eigenstates[0]))\n",
    "print(np.array_equal(T.eigenstates[1] @ (T.homologyZOperator(\"id\").to_spmatrix()), T.eigenstates[1]))\n",
    "print(np.array_equal(T.eigenstates[2] @ (T.homologyZOperator(\"id\").to_spmatrix()), T.eigenstates[2]))\n",
    "print(np.array_equal(T.eigenstates[3] @ (T.homologyZOperator(\"id\").to_spmatrix()), T.eigenstates[3]))"
   ]
  },
  {
   "cell_type": "code",
   "execution_count": 9,
   "id": "b7fa0e10",
   "metadata": {},
   "outputs": [
    {
     "name": "stdout",
     "output_type": "stream",
     "text": [
      "True\n",
      "True\n",
      "True\n",
      "True\n"
     ]
    }
   ],
   "source": [
    "print(np.array_equal(T.eigenstates[0] @ (T.homologyZOperator(\"alpha\").to_spmatrix()), T.eigenstates[0]))\n",
    "print(np.array_equal(T.eigenstates[1] @ (T.homologyZOperator(\"alpha\").to_spmatrix()), T.eigenstates[1]))\n",
    "print(np.array_equal(T.eigenstates[2] @ (T.homologyZOperator(\"alpha\").to_spmatrix()), np.negative(T.eigenstates[2])))\n",
    "print(np.array_equal(T.eigenstates[3] @ (T.homologyZOperator(\"alpha\").to_spmatrix()), np.negative(T.eigenstates[3])))"
   ]
  },
  {
   "cell_type": "code",
   "execution_count": 10,
   "id": "452157b9",
   "metadata": {},
   "outputs": [
    {
     "name": "stdout",
     "output_type": "stream",
     "text": [
      "True\n",
      "True\n",
      "True\n",
      "True\n"
     ]
    }
   ],
   "source": [
    "print(np.array_equal(T.eigenstates[0] @ (T.homologyZOperator(\"beta\").to_spmatrix()), T.eigenstates[0]))\n",
    "print(np.array_equal(T.eigenstates[1] @ (T.homologyZOperator(\"beta\").to_spmatrix()), np.negative(T.eigenstates[1])))\n",
    "print(np.array_equal(T.eigenstates[2] @ (T.homologyZOperator(\"beta\").to_spmatrix()), T.eigenstates[2]))\n",
    "print(np.array_equal(T.eigenstates[3] @ (T.homologyZOperator(\"beta\").to_spmatrix()), np.negative(T.eigenstates[3])))"
   ]
  },
  {
   "cell_type": "code",
   "execution_count": 11,
   "id": "6ba9ead2",
   "metadata": {},
   "outputs": [
    {
     "name": "stdout",
     "output_type": "stream",
     "text": [
      "True\n",
      "True\n",
      "True\n",
      "True\n"
     ]
    }
   ],
   "source": [
    "print(np.array_equal(T.eigenstates[0] @ (T.homologyZOperator(\"alphabeta\").to_spmatrix()), T.eigenstates[0]))\n",
    "print(np.array_equal(T.eigenstates[1] @ (T.homologyZOperator(\"alphabeta\").to_spmatrix()), np.negative(T.eigenstates[1])))\n",
    "print(np.array_equal(T.eigenstates[2] @ (T.homologyZOperator(\"alphabeta\").to_spmatrix()), np.negative(T.eigenstates[2])))\n",
    "print(np.array_equal(T.eigenstates[3] @ (T.homologyZOperator(\"alphabeta\").to_spmatrix()), T.eigenstates[3]))"
   ]
  },
  {
   "cell_type": "code",
   "execution_count": null,
   "id": "8a6d3388",
   "metadata": {},
   "outputs": [],
   "source": []
  }
 ],
 "metadata": {
  "kernelspec": {
   "display_name": "Python 3 (ipykernel)",
   "language": "python",
   "name": "python3"
  },
  "language_info": {
   "codemirror_mode": {
    "name": "ipython",
    "version": 3
   },
   "file_extension": ".py",
   "mimetype": "text/x-python",
   "name": "python",
   "nbconvert_exporter": "python",
   "pygments_lexer": "ipython3",
   "version": "3.10.9"
  }
 },
 "nbformat": 4,
 "nbformat_minor": 5
}
