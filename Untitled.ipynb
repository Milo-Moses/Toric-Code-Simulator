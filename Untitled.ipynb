{
 "cells": [
  {
   "cell_type": "code",
   "execution_count": 1,
   "id": "4aa4bf90",
   "metadata": {},
   "outputs": [],
   "source": [
    "from diagrams import Diagram\n",
    "from diagrams.aws.compute import EC2\n",
    "from diagrams.aws.database import RDS\n",
    "from diagrams.aws.network import ELB\n",
    "\n",
    "with Diagram(\"Web Service\"):\n",
    "    ELB(\"lb\") >> EC2(\"web\") >> RDS(\"userdb\")"
   ]
  },
  {
   "cell_type": "code",
   "execution_count": null,
   "id": "5c0c3be9",
   "metadata": {},
   "outputs": [],
   "source": []
  }
 ],
 "metadata": {
  "kernelspec": {
   "display_name": "Python 3 (ipykernel)",
   "language": "python",
   "name": "python3"
  },
  "language_info": {
   "codemirror_mode": {
    "name": "ipython",
    "version": 3
   },
   "file_extension": ".py",
   "mimetype": "text/x-python",
   "name": "python",
   "nbconvert_exporter": "python",
   "pygments_lexer": "ipython3",
   "version": "3.10.9"
  }
 },
 "nbformat": 4,
 "nbformat_minor": 5
}
