{
 "cells": [
  {
   "cell_type": "code",
   "execution_count": 1,
   "id": "5dac30d4",
   "metadata": {},
   "outputs": [],
   "source": [
    "import numpy as np\n",
    "import qutip\n",
    "import csv\n",
    "\n",
    "\n",
    "from qiskit import QuantumCircuit, ClassicalRegister, QuantumRegister,BasicAer\n",
    "from qiskit.compiler import transpile\n",
    "from qiskit.quantum_info.operators import Operator, Pauli\n",
    "from qiskit.quantum_info import process_fidelity\n",
    "from qiskit.extensions import RXGate, XGate, CXGate\n",
    "from qiskit.opflow.primitive_ops import PauliSumOp\n",
    "from qiskit.circuit import ParameterVector\n",
    "from qiskit.quantum_info import SparsePauliOp\n",
    "from scipy.sparse.linalg import eigs\n",
    "import matplotlib.pyplot as plt"
   ]
  },
  {
   "cell_type": "code",
   "execution_count": 2,
   "id": "32d7f60c",
   "metadata": {},
   "outputs": [],
   "source": [
    "from Torus import Torus"
   ]
  },
  {
   "cell_type": "code",
   "execution_count": 3,
   "id": "579d2811",
   "metadata": {},
   "outputs": [],
   "source": [
    "T=Torus()"
   ]
  },
  {
   "cell_type": "code",
   "execution_count": 4,
   "id": "e0b41721",
   "metadata": {},
   "outputs": [],
   "source": [
    "T.makeHamiltonian()"
   ]
  },
  {
   "cell_type": "code",
   "execution_count": 6,
   "id": "6d211c9a",
   "metadata": {},
   "outputs": [],
   "source": [
    "T.makeSparseEigenstatesNaive(k=1)"
   ]
  },
  {
   "cell_type": "code",
   "execution_count": 9,
   "id": "02546f30",
   "metadata": {},
   "outputs": [
    {
     "data": {
      "text/plain": [
       "array([ 0.021586+0.010061j, -0.      -0.j      ,  0.      +0.j      , ...,\n",
       "        0.      -0.j      ,  0.      +0.j      ,  0.004483-0.019678j])"
      ]
     },
     "execution_count": 9,
     "metadata": {},
     "output_type": "execute_result"
    }
   ],
   "source": [
    "T.eigenstates[0]"
   ]
  },
  {
   "cell_type": "code",
   "execution_count": 13,
   "id": "f662c901",
   "metadata": {},
   "outputs": [
    {
     "data": {
      "text/plain": [
       "(-18+0j)"
      ]
     },
     "execution_count": 13,
     "metadata": {},
     "output_type": "execute_result"
    }
   ],
   "source": [
    "T.eigenvalues[0]"
   ]
  },
  {
   "cell_type": "code",
   "execution_count": 16,
   "id": "983798a5",
   "metadata": {},
   "outputs": [],
   "source": [
    "import random"
   ]
  },
  {
   "cell_type": "code",
   "execution_count": 22,
   "id": "3f71634b",
   "metadata": {},
   "outputs": [],
   "source": [
    "indicies=\"\"\n",
    "\n",
    "for edge in T.edges:\n",
    "    indicies+=[\"I\",\"X\",\"Y\",\"Z\"][random.randint(0,3)]\n",
    "\n",
    "myMatrix = PauliSumOp(SparsePauliOp([indicies],[1])).to_spmatrix()"
   ]
  },
  {
   "cell_type": "code",
   "execution_count": 24,
   "id": "381b69bb",
   "metadata": {},
   "outputs": [
    {
     "data": {
      "text/plain": [
       "<262144x262144 sparse matrix of type '<class 'numpy.complex128'>'\n",
       "\twith 262144 stored elements in Compressed Sparse Row format>"
      ]
     },
     "execution_count": 24,
     "metadata": {},
     "output_type": "execute_result"
    }
   ],
   "source": [
    "myMatrix"
   ]
  },
  {
   "cell_type": "code",
   "execution_count": 28,
   "id": "fd9e6338",
   "metadata": {},
   "outputs": [],
   "source": [
    "eigenvector2=myMatrix @ T.eigenstates[0]"
   ]
  },
  {
   "cell_type": "code",
   "execution_count": 32,
   "id": "c22e7675",
   "metadata": {},
   "outputs": [],
   "source": [
    "eigenvector3=T.hamiltonian.to_spmatrix() @ eigenvector2"
   ]
  },
  {
   "cell_type": "code",
   "execution_count": 34,
   "id": "576ecef3",
   "metadata": {},
   "outputs": [],
   "source": [
    "eigenvector2=eigenvector2[eigenvector2 != 0]\n",
    "eigenvector3=eigenvector3[eigenvector3 != 0]"
   ]
  },
  {
   "cell_type": "code",
   "execution_count": 35,
   "id": "d4e3c613",
   "metadata": {},
   "outputs": [
    {
     "data": {
      "text/plain": [
       "array([-0.5-3.30105075e-17j, -0.5+0.00000000e+00j, -0.5+0.00000000e+00j,\n",
       "       ..., -0.5+0.00000000e+00j, -0.5+0.00000000e+00j,\n",
       "       -0.5+0.00000000e+00j])"
      ]
     },
     "execution_count": 35,
     "metadata": {},
     "output_type": "execute_result"
    }
   ],
   "source": [
    "eigenvector2/eigenvector3"
   ]
  },
  {
   "cell_type": "code",
   "execution_count": 36,
   "id": "c9d4a003",
   "metadata": {},
   "outputs": [
    {
     "data": {
      "text/plain": [
       "(-18+0j)"
      ]
     },
     "execution_count": 36,
     "metadata": {},
     "output_type": "execute_result"
    }
   ],
   "source": [
    "T.eigenvalues[0]"
   ]
  },
  {
   "cell_type": "code",
   "execution_count": 38,
   "id": "8da4b9a7",
   "metadata": {},
   "outputs": [
    {
     "data": {
      "text/plain": [
       "array([ 0.021586+0.010061j, -0.      -0.j      ,  0.      +0.j      , ...,\n",
       "        0.      -0.j      ,  0.      +0.j      ,  0.004483-0.019678j])"
      ]
     },
     "execution_count": 38,
     "metadata": {},
     "output_type": "execute_result"
    }
   ],
   "source": [
    "T.eigenstates[0]"
   ]
  },
  {
   "cell_type": "code",
   "execution_count": null,
   "id": "ba7c6b99",
   "metadata": {},
   "outputs": [],
   "source": []
  }
 ],
 "metadata": {
  "kernelspec": {
   "display_name": "Python 3 (ipykernel)",
   "language": "python",
   "name": "python3"
  },
  "language_info": {
   "codemirror_mode": {
    "name": "ipython",
    "version": 3
   },
   "file_extension": ".py",
   "mimetype": "text/x-python",
   "name": "python",
   "nbconvert_exporter": "python",
   "pygments_lexer": "ipython3",
   "version": "3.10.9"
  }
 },
 "nbformat": 4,
 "nbformat_minor": 5
}
