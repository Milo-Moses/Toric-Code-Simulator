{
 "cells": [
  {
   "cell_type": "code",
   "execution_count": 1,
   "id": "c9063e64",
   "metadata": {},
   "outputs": [],
   "source": [
    "import numpy as np\n",
    "import qutip\n",
    "import csv\n",
    "\n",
    "\n",
    "from qiskit import QuantumCircuit, ClassicalRegister, QuantumRegister,BasicAer\n",
    "from qiskit.compiler import transpile\n",
    "from qiskit.quantum_info.operators import Operator, Pauli\n",
    "from qiskit.quantum_info import process_fidelity\n",
    "from qiskit.extensions import RXGate, XGate, CXGate\n",
    "from qiskit.opflow.primitive_ops import PauliSumOp\n",
    "from qiskit.circuit import ParameterVector\n",
    "from qiskit.quantum_info import SparsePauliOp\n",
    "from scipy.sparse.linalg import eigs\n",
    "import matplotlib.pyplot as plt"
   ]
  },
  {
   "cell_type": "code",
   "execution_count": 2,
   "id": "ebd4572e",
   "metadata": {},
   "outputs": [],
   "source": [
    "from Torus import Torus"
   ]
  },
  {
   "cell_type": "code",
   "execution_count": 3,
   "id": "654b3ca9",
   "metadata": {},
   "outputs": [],
   "source": [
    "T=Torus()\n",
    "T.loadEigenData(\"CSVs/groundEigenvalues.csv\",\n",
    "                \"CSVs/groundEigenstates.csv\")"
   ]
  },
  {
   "cell_type": "code",
   "execution_count": 4,
   "id": "0c2cdf14",
   "metadata": {},
   "outputs": [
    {
     "name": "stdout",
     "output_type": "stream",
     "text": [
      "True\n",
      "True\n",
      "True\n",
      "True\n"
     ]
    }
   ],
   "source": [
    "print(np.array_equal(T.eigenstates[0] @ (T.homologyXOperator(\"id\").to_spmatrix()), T.eigenstates[0]))\n",
    "print(np.array_equal(T.eigenstates[1] @ (T.homologyXOperator(\"id\").to_spmatrix()), T.eigenstates[1]))\n",
    "print(np.array_equal(T.eigenstates[2] @ (T.homologyXOperator(\"id\").to_spmatrix()), T.eigenstates[2]))\n",
    "print(np.array_equal(T.eigenstates[3] @ (T.homologyXOperator(\"id\").to_spmatrix()), T.eigenstates[3]))"
   ]
  },
  {
   "cell_type": "code",
   "execution_count": 5,
   "id": "b481f4a8",
   "metadata": {},
   "outputs": [
    {
     "name": "stdout",
     "output_type": "stream",
     "text": [
      "True\n",
      "True\n",
      "True\n",
      "True\n"
     ]
    }
   ],
   "source": [
    "print(np.array_equal(T.eigenstates[0] @ (T.homologyXOperator(\"alpha\").to_spmatrix()), T.eigenstates[1]))\n",
    "print(np.array_equal(T.eigenstates[1] @ (T.homologyXOperator(\"alpha\").to_spmatrix()), T.eigenstates[0]))\n",
    "print(np.array_equal(T.eigenstates[2] @ (T.homologyXOperator(\"alpha\").to_spmatrix()), T.eigenstates[3]))\n",
    "print(np.array_equal(T.eigenstates[3] @ (T.homologyXOperator(\"alpha\").to_spmatrix()), T.eigenstates[2]))"
   ]
  },
  {
   "cell_type": "code",
   "execution_count": 6,
   "id": "5b685936",
   "metadata": {},
   "outputs": [
    {
     "name": "stdout",
     "output_type": "stream",
     "text": [
      "True\n",
      "True\n",
      "True\n",
      "True\n"
     ]
    }
   ],
   "source": [
    "print(np.array_equal(T.eigenstates[0] @ (T.homologyXOperator(\"beta\").to_spmatrix()), T.eigenstates[2]))\n",
    "print(np.array_equal(T.eigenstates[1] @ (T.homologyXOperator(\"beta\").to_spmatrix()), T.eigenstates[3]))\n",
    "print(np.array_equal(T.eigenstates[2] @ (T.homologyXOperator(\"beta\").to_spmatrix()), T.eigenstates[0]))\n",
    "print(np.array_equal(T.eigenstates[3] @ (T.homologyXOperator(\"beta\").to_spmatrix()), T.eigenstates[1]))"
   ]
  },
  {
   "cell_type": "code",
   "execution_count": 7,
   "id": "528d026f",
   "metadata": {},
   "outputs": [
    {
     "name": "stdout",
     "output_type": "stream",
     "text": [
      "True\n",
      "True\n",
      "True\n",
      "True\n"
     ]
    }
   ],
   "source": [
    "print(np.array_equal(T.eigenstates[0] @ (T.homologyXOperator(\"alphabeta\").to_spmatrix()), T.eigenstates[3]))\n",
    "print(np.array_equal(T.eigenstates[1] @ (T.homologyXOperator(\"alphabeta\").to_spmatrix()), T.eigenstates[2]))\n",
    "print(np.array_equal(T.eigenstates[2] @ (T.homologyXOperator(\"alphabeta\").to_spmatrix()), T.eigenstates[1]))\n",
    "print(np.array_equal(T.eigenstates[3] @ (T.homologyXOperator(\"alphabeta\").to_spmatrix()), T.eigenstates[0]))"
   ]
  },
  {
   "cell_type": "code",
   "execution_count": null,
   "id": "3a3042a8",
   "metadata": {},
   "outputs": [],
   "source": [
    "print(np.array_equal(T.eigenstates[0] @ (T.homologyZOperator(\"id\").to_spmatrix()), T.eigenstates[0]))\n",
    "print(np.array_equal(T.eigenstates[1] @ (T.homologyZOperator(\"id\").to_spmatrix()), T.eigenstates[1]))\n",
    "print(np.array_equal(T.eigenstates[2] @ (T.homologyZOperator(\"id\").to_spmatrix()), T.eigenstates[2]))\n",
    "print(np.array_equal(T.eigenstates[3] @ (T.homologyZOperator(\"id\").to_spmatrix()), T.eigenstates[3]))"
   ]
  }
 ],
 "metadata": {
  "kernelspec": {
   "display_name": "Python 3 (ipykernel)",
   "language": "python",
   "name": "python3"
  },
  "language_info": {
   "codemirror_mode": {
    "name": "ipython",
    "version": 3
   },
   "file_extension": ".py",
   "mimetype": "text/x-python",
   "name": "python",
   "nbconvert_exporter": "python",
   "pygments_lexer": "ipython3",
   "version": "3.10.9"
  }
 },
 "nbformat": 4,
 "nbformat_minor": 5
}
