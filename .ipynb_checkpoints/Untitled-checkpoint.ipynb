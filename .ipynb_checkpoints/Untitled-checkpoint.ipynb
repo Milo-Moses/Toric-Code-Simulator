{
 "cells": [
  {
   "cell_type": "code",
   "execution_count": 1,
   "id": "ba5c0781",
   "metadata": {},
   "outputs": [],
   "source": [
    "import numpy as np\n",
    "import qutip\n",
    "import csv\n",
    "\n",
    "\n",
    "from qiskit import QuantumCircuit, ClassicalRegister, QuantumRegister,BasicAer\n",
    "from qiskit.compiler import transpile\n",
    "from qiskit.quantum_info.operators import Operator, Pauli\n",
    "from qiskit.quantum_info import process_fidelity\n",
    "from qiskit.extensions import RXGate, XGate, CXGate\n",
    "from qiskit.opflow.primitive_ops import PauliSumOp\n",
    "from qiskit.circuit import ParameterVector\n",
    "from qiskit.quantum_info import SparsePauliOp\n",
    "from scipy.sparse.linalg import eigs\n",
    "import matplotlib.pyplot as plt"
   ]
  },
  {
   "cell_type": "code",
   "execution_count": 2,
   "id": "5c5cb217",
   "metadata": {},
   "outputs": [],
   "source": [
    "from Torus import Torus"
   ]
  },
  {
   "cell_type": "code",
   "execution_count": 3,
   "id": "d3d97db9",
   "metadata": {},
   "outputs": [],
   "source": [
    "T=Torus()"
   ]
  },
  {
   "cell_type": "code",
   "execution_count": 4,
   "id": "71a349eb",
   "metadata": {},
   "outputs": [],
   "source": [
    "T.makeHamiltonian()"
   ]
  },
  {
   "cell_type": "code",
   "execution_count": 6,
   "id": "4fcda872",
   "metadata": {},
   "outputs": [],
   "source": [
    "T.makeSparseEigenstatesNaive(k=1)"
   ]
  },
  {
   "cell_type": "code",
   "execution_count": 9,
   "id": "a9f2bb60",
   "metadata": {},
   "outputs": [
    {
     "data": {
      "text/plain": [
       "array([ 0.021586+0.010061j, -0.      -0.j      ,  0.      +0.j      , ...,\n",
       "        0.      -0.j      ,  0.      +0.j      ,  0.004483-0.019678j])"
      ]
     },
     "execution_count": 9,
     "metadata": {},
     "output_type": "execute_result"
    }
   ],
   "source": [
    "T.eigenstates[0]"
   ]
  },
  {
   "cell_type": "code",
   "execution_count": 13,
   "id": "762ba132",
   "metadata": {},
   "outputs": [
    {
     "data": {
      "text/plain": [
       "(-18+0j)"
      ]
     },
     "execution_count": 13,
     "metadata": {},
     "output_type": "execute_result"
    }
   ],
   "source": [
    "T.eigenvalues[0]"
   ]
  },
  {
   "cell_type": "code",
   "execution_count": 16,
   "id": "b448d021",
   "metadata": {},
   "outputs": [],
   "source": [
    "import random"
   ]
  },
  {
   "cell_type": "code",
   "execution_count": 17,
   "id": "72481396",
   "metadata": {},
   "outputs": [
    {
     "ename": "IndexError",
     "evalue": "list index out of range",
     "output_type": "error",
     "traceback": [
      "\u001b[0;31m---------------------------------------------------------------------------\u001b[0m",
      "\u001b[0;31mIndexError\u001b[0m                                Traceback (most recent call last)",
      "Cell \u001b[0;32mIn[17], line 4\u001b[0m\n\u001b[1;32m      1\u001b[0m indicies\u001b[38;5;241m=\u001b[39m\u001b[38;5;124m\"\u001b[39m\u001b[38;5;124m\"\u001b[39m\n\u001b[1;32m      3\u001b[0m \u001b[38;5;28;01mfor\u001b[39;00m edge \u001b[38;5;129;01min\u001b[39;00m T\u001b[38;5;241m.\u001b[39medges:\n\u001b[0;32m----> 4\u001b[0m     indicies\u001b[38;5;241m+\u001b[39m\u001b[38;5;241m=\u001b[39m\u001b[43m[\u001b[49m\u001b[38;5;124;43m\"\u001b[39;49m\u001b[38;5;124;43mI\u001b[39;49m\u001b[38;5;124;43m\"\u001b[39;49m\u001b[43m,\u001b[49m\u001b[38;5;124;43m\"\u001b[39;49m\u001b[38;5;124;43mX\u001b[39;49m\u001b[38;5;124;43m\"\u001b[39;49m\u001b[43m,\u001b[49m\u001b[38;5;124;43m\"\u001b[39;49m\u001b[38;5;124;43mY\u001b[39;49m\u001b[38;5;124;43m\"\u001b[39;49m\u001b[43m,\u001b[49m\u001b[38;5;124;43m\"\u001b[39;49m\u001b[38;5;124;43mZ\u001b[39;49m\u001b[38;5;124;43m\"\u001b[39;49m\u001b[43m]\u001b[49m\u001b[43m[\u001b[49m\u001b[43mrandom\u001b[49m\u001b[38;5;241;43m.\u001b[39;49m\u001b[43mrandint\u001b[49m\u001b[43m(\u001b[49m\u001b[38;5;241;43m0\u001b[39;49m\u001b[43m,\u001b[49m\u001b[38;5;241;43m4\u001b[39;49m\u001b[43m)\u001b[49m\u001b[43m]\u001b[49m\n\u001b[1;32m      6\u001b[0m myMatrix \u001b[38;5;241m=\u001b[39m PauliSumOp(SparsePauliOp([indicies],[\u001b[38;5;241m1\u001b[39m]))\u001b[38;5;241m.\u001b[39mto_spmatrix()\n",
      "\u001b[0;31mIndexError\u001b[0m: list index out of range"
     ]
    }
   ],
   "source": [
    "indicies=\"\"\n",
    "\n",
    "for edge in T.edges:\n",
    "    indicies+=[\"I\",\"X\",\"Y\",\"Z\"][random.randint(0,4)]\n",
    "\n",
    "myMatrix = PauliSumOp(SparsePauliOp([indicies],[1])).to_spmatrix()"
   ]
  },
  {
   "cell_type": "code",
   "execution_count": null,
   "id": "d5259e7e",
   "metadata": {},
   "outputs": [],
   "source": []
  }
 ],
 "metadata": {
  "kernelspec": {
   "display_name": "Python 3 (ipykernel)",
   "language": "python",
   "name": "python3"
  },
  "language_info": {
   "codemirror_mode": {
    "name": "ipython",
    "version": 3
   },
   "file_extension": ".py",
   "mimetype": "text/x-python",
   "name": "python",
   "nbconvert_exporter": "python",
   "pygments_lexer": "ipython3",
   "version": "3.10.9"
  }
 },
 "nbformat": 4,
 "nbformat_minor": 5
}
