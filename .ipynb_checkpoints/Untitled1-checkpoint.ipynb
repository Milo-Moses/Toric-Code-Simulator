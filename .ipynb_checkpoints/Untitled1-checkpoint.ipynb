{
 "cells": [
  {
   "cell_type": "code",
   "execution_count": 6,
   "id": "3419afd7",
   "metadata": {},
   "outputs": [],
   "source": [
    "import ipywidgets as widgets"
   ]
  },
  {
   "cell_type": "code",
   "execution_count": 2,
   "id": "91da4458",
   "metadata": {},
   "outputs": [
    {
     "data": {
      "application/vnd.jupyter.widget-view+json": {
       "model_id": "ed68dc6587344476b10e4a79088221af",
       "version_major": 2,
       "version_minor": 0
      },
      "text/plain": [
       "IntSlider(value=0)"
      ]
     },
     "execution_count": 2,
     "metadata": {},
     "output_type": "execute_result"
    }
   ],
   "source": [
    "ipywidgets.IntSlider()"
   ]
  },
  {
   "cell_type": "code",
   "execution_count": 3,
   "id": "a9563365",
   "metadata": {},
   "outputs": [],
   "source": [
    "from IPython.display import display"
   ]
  },
  {
   "cell_type": "code",
   "execution_count": 5,
   "id": "8d7fddd3",
   "metadata": {
    "scrolled": true
   },
   "outputs": [
    {
     "data": {
      "application/vnd.jupyter.widget-view+json": {
       "model_id": "590e61b2b8aa4bc5ac5426693b62ea20",
       "version_major": 2,
       "version_minor": 0
      },
      "text/plain": [
       "IntSlider(value=0)"
      ]
     },
     "metadata": {},
     "output_type": "display_data"
    }
   ],
   "source": [
    "w = ipywidgets.IntSlider()\n",
    "display(w)"
   ]
  },
  {
   "cell_type": "code",
   "execution_count": 20,
   "id": "f200986b",
   "metadata": {},
   "outputs": [],
   "source": [
    "b1 = widgets.Button(description=\"Button1\", layout=widgets.Layout(width=\"80%\",length=\"10%\"))\n",
    "b2 = widgets.Button(description=\"Button2\", layout=widgets.Layout(width=\"80%\"))\n",
    "b3 = widgets.Button(description=\"Button3\", layout=widgets.Layout(width=\"80%\"))\n",
    "b4 = widgets.Button(description=\"Button4\", layout=widgets.Layout(width=\"80%\"))\n",
    "\n",
    "h1 = widgets.HBox(children=[b1,b2])"
   ]
  },
  {
   "cell_type": "code",
   "execution_count": 21,
   "id": "0e80dfe0",
   "metadata": {},
   "outputs": [
    {
     "data": {
      "application/vnd.jupyter.widget-view+json": {
       "model_id": "07b1bcdc798b454a837d891422cc4f58",
       "version_major": 2,
       "version_minor": 0
      },
      "text/plain": [
       "HBox(children=(Button(description='Button1', layout=Layout(width='80%'), style=ButtonStyle()), Button(descript…"
      ]
     },
     "metadata": {},
     "output_type": "display_data"
    }
   ],
   "source": [
    "display(h1)"
   ]
  },
  {
   "cell_type": "code",
   "execution_count": 37,
   "id": "5e96c0c6",
   "metadata": {},
   "outputs": [
    {
     "data": {
      "application/vnd.jupyter.widget-view+json": {
       "model_id": "229f36e0f039444fa681691557f00fec",
       "version_major": 2,
       "version_minor": 0
      },
      "text/plain": [
       "GridBox(children=(Button(button_style='danger', description='0', layout=Layout(height='auto', width='auto'), s…"
      ]
     },
     "execution_count": 37,
     "metadata": {},
     "output_type": "execute_result"
    }
   ],
   "source": [
    "widgets.GridBox(children=[widgets.Button(description=str(i), layout=widgets.Layout(width='auto', height='auto'),\n",
    "                         button_style='danger') for i in range(49)],\n",
    "\n",
    "                layout=widgets.Layout(\n",
    "                                    width='100%',\n",
    "                                    grid_template_columns='40px 100px 40px 100px 40px 100px 40px',\n",
    "                                    grid_template_rows='40px 100px 40px 100px 40px 100px 40x',\n",
    "                                    grid_gap='2px 2px')\n",
    "       )"
   ]
  },
  {
   "cell_type": "code",
   "execution_count": null,
   "id": "62f8f812",
   "metadata": {},
   "outputs": [],
   "source": []
  }
 ],
 "metadata": {
  "kernelspec": {
   "display_name": "Python 3 (ipykernel)",
   "language": "python",
   "name": "python3"
  },
  "language_info": {
   "codemirror_mode": {
    "name": "ipython",
    "version": 3
   },
   "file_extension": ".py",
   "mimetype": "text/x-python",
   "name": "python",
   "nbconvert_exporter": "python",
   "pygments_lexer": "ipython3",
   "version": "3.10.9"
  }
 },
 "nbformat": 4,
 "nbformat_minor": 5
}
