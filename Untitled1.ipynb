{
 "cells": [
  {
   "cell_type": "code",
   "execution_count": 6,
   "id": "13ada792",
   "metadata": {},
   "outputs": [],
   "source": [
    "import ipywidgets as widgets"
   ]
  },
  {
   "cell_type": "code",
   "execution_count": 2,
   "id": "d74dbf82",
   "metadata": {},
   "outputs": [
    {
     "data": {
      "application/vnd.jupyter.widget-view+json": {
       "model_id": "ed68dc6587344476b10e4a79088221af",
       "version_major": 2,
       "version_minor": 0
      },
      "text/plain": [
       "IntSlider(value=0)"
      ]
     },
     "execution_count": 2,
     "metadata": {},
     "output_type": "execute_result"
    }
   ],
   "source": [
    "ipywidgets.IntSlider()"
   ]
  },
  {
   "cell_type": "code",
   "execution_count": 3,
   "id": "203e88b6",
   "metadata": {},
   "outputs": [],
   "source": [
    "from IPython.display import display"
   ]
  },
  {
   "cell_type": "code",
   "execution_count": 5,
   "id": "e78fcc7c",
   "metadata": {
    "scrolled": true
   },
   "outputs": [
    {
     "data": {
      "application/vnd.jupyter.widget-view+json": {
       "model_id": "590e61b2b8aa4bc5ac5426693b62ea20",
       "version_major": 2,
       "version_minor": 0
      },
      "text/plain": [
       "IntSlider(value=0)"
      ]
     },
     "metadata": {},
     "output_type": "display_data"
    }
   ],
   "source": [
    "w = ipywidgets.IntSlider()\n",
    "display(w)"
   ]
  },
  {
   "cell_type": "code",
   "execution_count": 20,
   "id": "44f96073",
   "metadata": {},
   "outputs": [],
   "source": [
    "b1 = widgets.Button(description=\"Button1\", layout=widgets.Layout(width=\"80%\",length=\"10%\"))\n",
    "b2 = widgets.Button(description=\"Button2\", layout=widgets.Layout(width=\"80%\"))\n",
    "b3 = widgets.Button(description=\"Button3\", layout=widgets.Layout(width=\"80%\"))\n",
    "b4 = widgets.Button(description=\"Button4\", layout=widgets.Layout(width=\"80%\"))\n",
    "\n",
    "h1 = widgets.HBox(children=[b1,b2])"
   ]
  },
  {
   "cell_type": "code",
   "execution_count": 21,
   "id": "697bd94b",
   "metadata": {},
   "outputs": [
    {
     "data": {
      "application/vnd.jupyter.widget-view+json": {
       "model_id": "07b1bcdc798b454a837d891422cc4f58",
       "version_major": 2,
       "version_minor": 0
      },
      "text/plain": [
       "HBox(children=(Button(description='Button1', layout=Layout(width='80%'), style=ButtonStyle()), Button(descript…"
      ]
     },
     "metadata": {},
     "output_type": "display_data"
    }
   ],
   "source": [
    "display(h1)"
   ]
  },
  {
   "cell_type": "code",
   "execution_count": 42,
   "id": "5b991ecc",
   "metadata": {},
   "outputs": [
    {
     "data": {
      "application/vnd.jupyter.widget-view+json": {
       "model_id": "69c06f29212046a29e7708e4f81b9502",
       "version_major": 2,
       "version_minor": 0
      },
      "text/plain": [
       "GridBox(children=(Button(button_style='danger', description='0', layout=Layout(height='auto', width='auto'), s…"
      ]
     },
     "execution_count": 42,
     "metadata": {},
     "output_type": "execute_result"
    }
   ],
   "source": [
    "widgets.GridBox(children=[widgets.Button(description=str(i), layout=widgets.Layout(width='auto', height='auto'),\n",
    "                         button_style='danger') for i in range(16)],\n",
    "\n",
    "        layout=widgets.Layout(\n",
    "                            width='60%',\n",
    "                            grid_template_columns='10% 20% 10% 20%',\n",
    "                            grid_template_rows='80px 40px 80px 40px',\n",
    "                            grid_gap='12px 2px')\n",
    "       )"
   ]
  },
  {
   "cell_type": "code",
   "execution_count": null,
   "id": "4475e336",
   "metadata": {},
   "outputs": [],
   "source": []
  }
 ],
 "metadata": {
  "kernelspec": {
   "display_name": "Python 3 (ipykernel)",
   "language": "python",
   "name": "python3"
  },
  "language_info": {
   "codemirror_mode": {
    "name": "ipython",
    "version": 3
   },
   "file_extension": ".py",
   "mimetype": "text/x-python",
   "name": "python",
   "nbconvert_exporter": "python",
   "pygments_lexer": "ipython3",
   "version": "3.10.9"
  }
 },
 "nbformat": 4,
 "nbformat_minor": 5
}
